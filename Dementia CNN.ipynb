{
 "cells": [
  {
   "cell_type": "markdown",
   "id": "84cd599b",
   "metadata": {},
   "source": [
    "# Predicting Dementia Stages"
   ]
  },
  {
   "cell_type": "markdown",
   "id": "7f88dfc3",
   "metadata": {},
   "source": [
    "## Multi-label Image Classification *TensorFlow CNN*\n",
    "\n",
    "---"
   ]
  },
  {
   "cell_type": "markdown",
   "id": "da9af096",
   "metadata": {},
   "source": [
    "**Objective:** Produce the capability to predict the stage of dementia in a patient using an MRI scan.\n",
    "\n",
    "**Process:**\n",
    "1. Source training data (labeled MRIs)\n",
    "2. Load training data\n",
    "3. Process & Explore training images\n",
    "4. Build Convolutional Neural Network\n",
    "5. Train CNN\n",
    "6. Evaluate CNN\n",
    "7. Tune CNN"
   ]
  },
  {
   "cell_type": "markdown",
   "id": "2ac71153",
   "metadata": {},
   "source": [
    "Now that the training images have been sourced and saved in a structured directory, I can begin coding. First, I'll import all of the packages and libraries I'll be using for this model."
   ]
  },
  {
   "cell_type": "code",
   "execution_count": 26,
   "id": "5a3fccc7",
   "metadata": {},
   "outputs": [
    {
     "name": "stdout",
     "output_type": "stream",
     "text": [
      "Imports complete.\n"
     ]
    }
   ],
   "source": [
    "#----- Process images/training data\n",
    "import numpy as np\n",
    "import pandas as pd\n",
    "import cv2\n",
    "import glob\n",
    "import matplotlib.pyplot as plt\n",
    "\n",
    "#----- Build, Train, Evaluate CNN\n",
    "import tensorflow as tf\n",
    "import keras\n",
    "from keras.models import Sequential\n",
    "from keras.layers import Dense, Dropout, Flatten\n",
    "from keras.layers import Conv2D, MaxPooling2D\n",
    "from keras.preprocessing import image\n",
    "\n",
    "print('Imports complete.')"
   ]
  },
  {
   "cell_type": "markdown",
   "id": "efc6454b",
   "metadata": {},
   "source": [
    "--- \n",
    "\n",
    "### Loading Training Data\n",
    "\n",
    "With all of the necessary packages imported, I'll begin to read in the images into arrays that can then be used to train a CNN. I'm creating a function that'll take file path arguments and returned the images in that directory as an array with image data and another with labels. The steps are as follows:\n",
    "\n",
    "1. Initialize function to take two arguments\n",
    "2. Initialize two empty arrays (image data and image label)\n",
    "3. Use file path arguments to access directory\n",
    "4. Process Image (read & resize)\n",
    "5. Add image data and corresponding label to arrays\n",
    "6. Return image datra and array of labels"
   ]
  },
  {
   "cell_type": "code",
   "execution_count": 27,
   "id": "39418f56",
   "metadata": {},
   "outputs": [],
   "source": [
    "# we're getting the set type as a string and stages as a list of strings for each dir name\n",
    "def cv2_read_path_train(set_type, stages):\n",
    "    ''' Processes images given the file path and naming conventions'''\n",
    "    \n",
    "    # list to hold image data - converted to numpy array on return\n",
    "    image_array = []\n",
    "    \n",
    "    # list to hold labels - converted to numpy array on return\n",
    "    label_array = []\n",
    "    \n",
    "    # Label encoding dictionary\n",
    "    name_dict = {'NonDemented' : 0,\n",
    "                 'VeryMildDemented' : 1,\n",
    "                 'MildDemented' : 2,\n",
    "                 'ModerateDemented' : 3}\n",
    "    \n",
    "    # Iterate through stages\n",
    "    for stage in stages:\n",
    "        # Iterate through every image in specified directory\n",
    "        for filename in glob.glob(f'Alzheimers_Dataset/{set_type}/{stage}/*.jpg'):\n",
    "            # Read image\n",
    "            IMG_SIZE = 100\n",
    "            img = cv2.imread(filename, cv2.COLOR_BGR2RGB)\n",
    "            new_array = cv2.resize(img, (IMG_SIZE, IMG_SIZE))\n",
    "            # Add image to list, SCALED\n",
    "            image_array.append(new_array.reshape(-1, IMG_SIZE, IMG_SIZE, 1)/255)\n",
    "            # Add label\n",
    "            label_array.append(name_dict[stage])\n",
    "\n",
    "    return np.array(image_array)[:,0,:,:,:], np.array(label_array) "
   ]
  },
  {
   "cell_type": "markdown",
   "id": "38cdb3c2",
   "metadata": {},
   "source": [
    "---\n",
    "\n",
    "### Process & Explore Training Images\n",
    "\n",
    "First, I'll create a list that contains the stages of dementia as outlined in our directory (*the exact folder name*). I'm only grabbing the training data so I'll pass `'train'` along with my list of stages to the function created above."
   ]
  },
  {
   "cell_type": "code",
   "execution_count": 28,
   "id": "944e6b4e",
   "metadata": {},
   "outputs": [],
   "source": [
    "# Name of dir for each stage\n",
    "all_stages = ['NonDemented', 'VeryMildDemented', 'MildDemented', 'ModerateDemented']\n",
    "\n",
    "# Create trainng sets\n",
    "X_train, y_train = cv2_read_path_train(set_type='train', stages=all_stages)"
   ]
  },
  {
   "cell_type": "code",
   "execution_count": 29,
   "id": "38a1d61a",
   "metadata": {},
   "outputs": [
    {
     "data": {
      "text/plain": [
       "((5121, 100, 100, 1), (5121,))"
      ]
     },
     "execution_count": 29,
     "metadata": {},
     "output_type": "execute_result"
    }
   ],
   "source": [
    "X_train.shape, y_train.shape"
   ]
  },
  {
   "cell_type": "markdown",
   "id": "6e1de4bc",
   "metadata": {},
   "source": [
    "The shape of `X_train` shows that there are 5,121 training images with the size of 100x100. `y_train` is showing those same number of images but instead, it contains the labels for those images. I'll show this in a bit when I show a sample MRI scan from the dataset.\n",
    "\n",
    "Next, I'll convert the `y_train` array of labels into a 2d array with binary identification of each label."
   ]
  },
  {
   "cell_type": "code",
   "execution_count": 32,
   "id": "d5e75319",
   "metadata": {},
   "outputs": [],
   "source": [
    "# convert labels to binary identification\n",
    "train_labels = pd.Series(y_train)\n",
    "y_train = pd.get_dummies(train_labels)"
   ]
  },
  {
   "cell_type": "code",
   "execution_count": 35,
   "id": "2204c801",
   "metadata": {
    "scrolled": true
   },
   "outputs": [
    {
     "data": {
      "text/html": [
       "<div>\n",
       "<style scoped>\n",
       "    .dataframe tbody tr th:only-of-type {\n",
       "        vertical-align: middle;\n",
       "    }\n",
       "\n",
       "    .dataframe tbody tr th {\n",
       "        vertical-align: top;\n",
       "    }\n",
       "\n",
       "    .dataframe thead th {\n",
       "        text-align: right;\n",
       "    }\n",
       "</style>\n",
       "<table border=\"1\" class=\"dataframe\">\n",
       "  <thead>\n",
       "    <tr style=\"text-align: right;\">\n",
       "      <th></th>\n",
       "      <th>0</th>\n",
       "      <th>1</th>\n",
       "      <th>2</th>\n",
       "      <th>3</th>\n",
       "    </tr>\n",
       "  </thead>\n",
       "  <tbody>\n",
       "    <tr>\n",
       "      <th>0</th>\n",
       "      <td>1</td>\n",
       "      <td>0</td>\n",
       "      <td>0</td>\n",
       "      <td>0</td>\n",
       "    </tr>\n",
       "    <tr>\n",
       "      <th>1</th>\n",
       "      <td>1</td>\n",
       "      <td>0</td>\n",
       "      <td>0</td>\n",
       "      <td>0</td>\n",
       "    </tr>\n",
       "    <tr>\n",
       "      <th>2</th>\n",
       "      <td>1</td>\n",
       "      <td>0</td>\n",
       "      <td>0</td>\n",
       "      <td>0</td>\n",
       "    </tr>\n",
       "    <tr>\n",
       "      <th>3</th>\n",
       "      <td>1</td>\n",
       "      <td>0</td>\n",
       "      <td>0</td>\n",
       "      <td>0</td>\n",
       "    </tr>\n",
       "    <tr>\n",
       "      <th>4</th>\n",
       "      <td>1</td>\n",
       "      <td>0</td>\n",
       "      <td>0</td>\n",
       "      <td>0</td>\n",
       "    </tr>\n",
       "  </tbody>\n",
       "</table>\n",
       "</div>"
      ],
      "text/plain": [
       "   0  1  2  3\n",
       "0  1  0  0  0\n",
       "1  1  0  0  0\n",
       "2  1  0  0  0\n",
       "3  1  0  0  0\n",
       "4  1  0  0  0"
      ]
     },
     "execution_count": 35,
     "metadata": {},
     "output_type": "execute_result"
    }
   ],
   "source": [
    "y_train.head()"
   ]
  },
  {
   "cell_type": "markdown",
   "id": "fcf750af",
   "metadata": {},
   "source": [
    "Now I'll do the same process for the testing images. These images will be used to evaulate the neural networks performance after being trained with the training images."
   ]
  },
  {
   "cell_type": "code",
   "execution_count": 36,
   "id": "6a209a4a",
   "metadata": {},
   "outputs": [],
   "source": [
    "# Create testing sets\n",
    "X_test, y_test = cv2_read_path_train(set_type='test', stages=all_stages)\n",
    "\n",
    "# convert labels to binary identification\n",
    "test_labels = pd.Series(y_test)\n",
    "y_test = pd.get_dummies(test_labels)"
   ]
  },
  {
   "cell_type": "markdown",
   "id": "c02c24b6",
   "metadata": {},
   "source": [
    "To view sample images and their corresponding labels, I'm creating a function that'll show the MRI scan, the index at which the data for that scan was pulled from, and the label for the stage of dementia the specified MRI scan is classified as."
   ]
  },
  {
   "cell_type": "code",
   "execution_count": 37,
   "id": "b7db707d",
   "metadata": {},
   "outputs": [],
   "source": [
    "# Function to show image from dataset\n",
    "def show_sample(data, index, label='Empty'):\n",
    "     plt.imshow(data[index], cmap=plt.cm.plasma)\n",
    "     plt.title(f\"[{index}] : {label}\")\n",
    "     plt.show()"
   ]
  },
  {
   "cell_type": "code",
   "execution_count": 38,
   "id": "18d16f8d",
   "metadata": {},
   "outputs": [
    {
     "data": {
      "image/png": "[encoded data removed]",
      "text/plain": [
       "<Figure size 432x288 with 1 Axes>"
      ]
     },
     "metadata": {
      "needs_background": "light"
     },
     "output_type": "display_data"
    }
   ],
   "source": [
    "# View some TRAINING MRI scans\n",
    "sample_label = np.argmax(y_train.iloc[1])\n",
    "show_sample(X_train, 1, label=sample_label)"
   ]
  },
  {
   "cell_type": "markdown",
   "id": "267268ef",
   "metadata": {},
   "source": [
    "---\n",
    "\n",
    "### Build Convolutional Neural Network\n",
    "\n",
    "#### CNN Overview:"
   ]
  },
  {
   "cell_type": "code",
   "execution_count": 39,
   "id": "08582917",
   "metadata": {},
   "outputs": [],
   "source": [
    "model = Sequential()\n",
    "\n",
    "#-----Convolutional 2-Dimensional Layers\n",
    "model.add(Conv2D(filters=64, kernel_size=(3, 3), activation=\"relu\", input_shape=(100, 100, 1)))\n",
    "model.add(MaxPooling2D(pool_size=(2, 2)))\n",
    "model.add(Dropout(0.25))\n",
    "model.add(Conv2D(filters=128, kernel_size=(3, 3), activation='relu'))\n",
    "model.add(MaxPooling2D(pool_size=(2, 2)))\n",
    "model.add(Dropout(0.25))\n",
    "model.add(Flatten())\n",
    "\n",
    "#-----Dense Layers\n",
    "model.add(Dense(64, activation='relu'))\n",
    "model.add(Dropout(0.5))\n",
    "model.add(Dense(32, activation='relu'))\n",
    "model.add(Dropout(0.5))\n",
    "model.add(Dense(4, activation='softmax'))"
   ]
  },
  {
   "cell_type": "markdown",
   "id": "f6879a3e",
   "metadata": {},
   "source": [
    "With the initial CNN structure built out, I'll look at a summary of my model."
   ]
  },
  {
   "cell_type": "code",
   "execution_count": 40,
   "id": "acfc7ae7",
   "metadata": {
    "scrolled": true
   },
   "outputs": [
    {
     "name": "stdout",
     "output_type": "stream",
     "text": [
      "Model: \"sequential_2\"\n",
      "_________________________________________________________________\n",
      " Layer (type)                Output Shape              Param #   \n",
      "=================================================================\n",
      " conv2d_4 (Conv2D)           (None, 98, 98, 64)        640       \n",
      "                                                                 \n",
      " max_pooling2d_4 (MaxPooling  (None, 49, 49, 64)       0         \n",
      " 2D)                                                             \n",
      "                                                                 \n",
      " dropout_8 (Dropout)         (None, 49, 49, 64)        0         \n",
      "                                                                 \n",
      " conv2d_5 (Conv2D)           (None, 47, 47, 128)       73856     \n",
      "                                                                 \n",
      " max_pooling2d_5 (MaxPooling  (None, 23, 23, 128)      0         \n",
      " 2D)                                                             \n",
      "                                                                 \n",
      " dropout_9 (Dropout)         (None, 23, 23, 128)       0         \n",
      "                                                                 \n",
      " flatten_2 (Flatten)         (None, 67712)             0         \n",
      "                                                                 \n",
      " dense_6 (Dense)             (None, 64)                4333632   \n",
      "                                                                 \n",
      " dropout_10 (Dropout)        (None, 64)                0         \n",
      "                                                                 \n",
      " dense_7 (Dense)             (None, 32)                2080      \n",
      "                                                                 \n",
      " dropout_11 (Dropout)        (None, 32)                0         \n",
      "                                                                 \n",
      " dense_8 (Dense)             (None, 4)                 132       \n",
      "                                                                 \n",
      "=================================================================\n",
      "Total params: 4,410,340\n",
      "Trainable params: 4,410,340\n",
      "Non-trainable params: 0\n",
      "_________________________________________________________________\n"
     ]
    }
   ],
   "source": [
    "model.summary()"
   ]
  },
  {
   "cell_type": "markdown",
   "id": "26bc6ca7",
   "metadata": {},
   "source": [
    "**Explain Summary**\n",
    "**Explain compiling & args**"
   ]
  },
  {
   "cell_type": "code",
   "execution_count": 41,
   "id": "9c596a86",
   "metadata": {},
   "outputs": [],
   "source": [
    "model.compile(optimizer='adam', loss='categorical_crossentropy', metrics=['accuracy'])"
   ]
  },
  {
   "cell_type": "markdown",
   "id": "dc70d757",
   "metadata": {},
   "source": [
    "--- \n",
    "\n",
    "### Train CNN"
   ]
  },
  {
   "cell_type": "code",
   "execution_count": null,
   "id": "b63b29c5",
   "metadata": {},
   "outputs": [],
   "source": [
    "model.fit(X_train, y_train, epochs=10, validation_data=(X_test, y_test), batch_size=64)"
   ]
  },
  {
   "cell_type": "markdown",
   "id": "d8dbeda1",
   "metadata": {},
   "source": [
    "---\n",
    "\n",
    "### Evaluate CNN"
   ]
  },
  {
   "cell_type": "code",
   "execution_count": 13,
   "id": "fc71a674",
   "metadata": {},
   "outputs": [
    {
     "name": "stdout",
     "output_type": "stream",
     "text": [
      "40/40 [==============================] - 3s 78ms/step - loss: 0.8913 - accuracy: 0.5715\n"
     ]
    }
   ],
   "source": [
    "vloss, vacc = model.evaluate(X_test, y_test)"
   ]
  },
  {
   "cell_type": "markdown",
   "id": "8395bac8",
   "metadata": {},
   "source": [
    "---\n",
    "\n",
    "### Tune CNN"
   ]
  },
  {
   "cell_type": "code",
   "execution_count": null,
   "id": "339fa6ab",
   "metadata": {},
   "outputs": [],
   "source": []
  }
 ],
 "metadata": {
  "kernelspec": {
   "display_name": "Python 3 (ipykernel)",
   "language": "python",
   "name": "python3"
  },
  "language_info": {
   "codemirror_mode": {
    "name": "ipython",
    "version": 3
   },
   "file_extension": ".py",
   "mimetype": "text/x-python",
   "name": "python",
   "nbconvert_exporter": "python",
   "pygments_lexer": "ipython3",
   "version": "3.9.7"
  }
 },
 "nbformat": 4,
 "nbformat_minor": 5
}
