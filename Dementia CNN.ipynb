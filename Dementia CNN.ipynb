{
 "cells": [
  {
   "cell_type": "markdown",
   "id": "2ac71153",
   "metadata": {},
   "source": [
    "Import necessary libraries and packages."
   ]
  },
  {
   "cell_type": "code",
   "execution_count": 2,
   "id": "5a3fccc7",
   "metadata": {},
   "outputs": [
    {
     "name": "stdout",
     "output_type": "stream",
     "text": [
      "Imports complete.\n"
     ]
    }
   ],
   "source": [
    "import numpy as np\n",
    "import pandas as pd\n",
    "import cv2\n",
    "import glob\n",
    "import matplotlib.pyplot as plt\n",
    "import time\n",
    "import tensorflow as tf\n",
    "import keras\n",
    "from keras.models import Sequential\n",
    "from keras.layers import Dense, Dropout, Flatten\n",
    "from keras.layers import Conv2D, MaxPooling2D\n",
    "from keras.preprocessing import image\n",
    "\n",
    "print('Imports complete.')"
   ]
  },
  {
   "cell_type": "markdown",
   "id": "efc6454b",
   "metadata": {},
   "source": [
    "Create funtion to read images into arrays of image data and label (*i.e  non, very mildly, mildly, or moderately demented*)"
   ]
  },
  {
   "cell_type": "code",
   "execution_count": 3,
   "id": "39418f56",
   "metadata": {},
   "outputs": [],
   "source": [
    "# we're getting the set type as a string and stages as a list of strings for each dir name\n",
    "def cv2_read_path_train(set_type, stages):\n",
    "    ''' Processes images given the file path and naming conventions'''\n",
    "    \n",
    "    # list to hold image data - converted to numpy array on return\n",
    "    image_array = []\n",
    "    \n",
    "    # list to hold labels - converted to numpy array on return\n",
    "    label_array = []\n",
    "    \n",
    "    # Label encoding dictionary\n",
    "    name_dict = {'NonDemented' : 0,\n",
    "                 'VeryMildDemented' : 1,\n",
    "                 'MildDemented' : 2,\n",
    "                 'ModerateDemented' : 3}\n",
    "    \n",
    "    # Iterate through stages\n",
    "    for stage in stages:\n",
    "        # Iterate through every image in specified directory\n",
    "        for filename in glob.glob(f'Alzheimers_Dataset/{set_type}/{stage}/*.jpg'):\n",
    "            # Read image\n",
    "            IMG_SIZE = 100\n",
    "            img = cv2.imread(filename, cv2.COLOR_BGR2RGB)\n",
    "            new_array = cv2.resize(img, (IMG_SIZE, IMG_SIZE))\n",
    "            # Add image to list, SCALED\n",
    "            image_array.append(new_array.reshape(-1, IMG_SIZE, IMG_SIZE, 1)/255)\n",
    "            # Add label\n",
    "            label_array.append(name_dict[stage])\n",
    "\n",
    "    return np.array(image_array)[:,0,:,:,:], np.array(label_array) "
   ]
  },
  {
   "cell_type": "markdown",
   "id": "38cdb3c2",
   "metadata": {},
   "source": [
    "Now I'm creating the list of stages, then using the function I created to get the training data."
   ]
  },
  {
   "cell_type": "code",
   "execution_count": 4,
   "id": "56430d28",
   "metadata": {},
   "outputs": [
    {
     "ename": "IndexError",
     "evalue": "too many indices for array: array is 1-dimensional, but 5 were indexed",
     "output_type": "error",
     "traceback": [
      "\u001b[1;31m---------------------------------------------------------------------------\u001b[0m",
      "\u001b[1;31mIndexError\u001b[0m                                Traceback (most recent call last)",
      "\u001b[1;32m~\\AppData\\Local\\Temp/ipykernel_772/3433669066.py\u001b[0m in \u001b[0;36m<module>\u001b[1;34m\u001b[0m\n\u001b[0;32m      3\u001b[0m \u001b[1;33m\u001b[0m\u001b[0m\n\u001b[0;32m      4\u001b[0m \u001b[1;31m# Create trainng sets\u001b[0m\u001b[1;33m\u001b[0m\u001b[1;33m\u001b[0m\u001b[0m\n\u001b[1;32m----> 5\u001b[1;33m \u001b[0mX_train\u001b[0m\u001b[1;33m,\u001b[0m \u001b[0my_train\u001b[0m \u001b[1;33m=\u001b[0m \u001b[0mcv2_read_path_train\u001b[0m\u001b[1;33m(\u001b[0m\u001b[0mset_type\u001b[0m\u001b[1;33m=\u001b[0m\u001b[1;34m'train'\u001b[0m\u001b[1;33m,\u001b[0m \u001b[0mstages\u001b[0m\u001b[1;33m=\u001b[0m\u001b[0mall_stages\u001b[0m\u001b[1;33m)\u001b[0m\u001b[1;33m\u001b[0m\u001b[1;33m\u001b[0m\u001b[0m\n\u001b[0m",
      "\u001b[1;32m~\\AppData\\Local\\Temp/ipykernel_772/1986119563.py\u001b[0m in \u001b[0;36mcv2_read_path_train\u001b[1;34m(set_type, stages)\u001b[0m\n\u001b[0;32m     27\u001b[0m             \u001b[0mlabel_array\u001b[0m\u001b[1;33m.\u001b[0m\u001b[0mappend\u001b[0m\u001b[1;33m(\u001b[0m\u001b[0mname_dict\u001b[0m\u001b[1;33m[\u001b[0m\u001b[0mstage\u001b[0m\u001b[1;33m]\u001b[0m\u001b[1;33m)\u001b[0m\u001b[1;33m\u001b[0m\u001b[1;33m\u001b[0m\u001b[0m\n\u001b[0;32m     28\u001b[0m \u001b[1;33m\u001b[0m\u001b[0m\n\u001b[1;32m---> 29\u001b[1;33m     \u001b[1;32mreturn\u001b[0m \u001b[0mnp\u001b[0m\u001b[1;33m.\u001b[0m\u001b[0marray\u001b[0m\u001b[1;33m(\u001b[0m\u001b[0mimage_array\u001b[0m\u001b[1;33m)\u001b[0m\u001b[1;33m[\u001b[0m\u001b[1;33m:\u001b[0m\u001b[1;33m,\u001b[0m\u001b[1;36m0\u001b[0m\u001b[1;33m,\u001b[0m\u001b[1;33m:\u001b[0m\u001b[1;33m,\u001b[0m\u001b[1;33m:\u001b[0m\u001b[1;33m,\u001b[0m\u001b[1;33m:\u001b[0m\u001b[1;33m]\u001b[0m\u001b[1;33m,\u001b[0m \u001b[0mnp\u001b[0m\u001b[1;33m.\u001b[0m\u001b[0marray\u001b[0m\u001b[1;33m(\u001b[0m\u001b[0mlabel_array\u001b[0m\u001b[1;33m)\u001b[0m\u001b[1;33m\u001b[0m\u001b[1;33m\u001b[0m\u001b[0m\n\u001b[0m",
      "\u001b[1;31mIndexError\u001b[0m: too many indices for array: array is 1-dimensional, but 5 were indexed"
     ]
    }
   ],
   "source": [
    "# Name of dir for each stage\n",
    "all_stages = ['NonDemented', 'VeryMildDemented', 'MildDemented', 'ModerateDemented']\n",
    "\n",
    "# Create trainng sets\n",
    "X_train, y_train = cv2_read_path_train(set_type='train', stages=all_stages)"
   ]
  }
 ],
 "metadata": {
  "kernelspec": {
   "display_name": "Python 3 (ipykernel)",
   "language": "python",
   "name": "python3"
  },
  "language_info": {
   "codemirror_mode": {
    "name": "ipython",
    "version": 3
   },
   "file_extension": ".py",
   "mimetype": "text/x-python",
   "name": "python",
   "nbconvert_exporter": "python",
   "pygments_lexer": "ipython3",
   "version": "3.9.7"
  }
 },
 "nbformat": 4,
 "nbformat_minor": 5
}
